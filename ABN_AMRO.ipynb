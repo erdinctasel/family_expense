{
 "cells": [
  {
   "cell_type": "code",
   "execution_count": 1,
   "id": "408c5de7-5bf8-4b26-a61d-c4df7c56ea23",
   "metadata": {},
   "outputs": [],
   "source": [
    "# Below are the libraries that are used in order to perform EDA (Exploratory data analysis).\n",
    "import pandas as pd\n",
    "import numpy as np\n",
    "import seaborn as sns                       #visualisation\n",
    "import matplotlib.pyplot as plt             #visualisation\n",
    "\n",
    "from os import listdir\n",
    "from os.path import isfile, join"
   ]
  },
  {
   "cell_type": "markdown",
   "id": "cb243bb0-cd27-4414-b4ac-24b3a41a616d",
   "metadata": {
    "tags": []
   },
   "source": [
    "## Klasördeki Excel dosyalarını seçer ve tüm excel dosyalarını tek DataFrame e dönüştürür"
   ]
  },
  {
   "cell_type": "code",
   "execution_count": 2,
   "id": "65e3842f-98ef-4d6f-8e3b-1b693b133c70",
   "metadata": {},
   "outputs": [
    {
     "name": "stdout",
     "output_type": "stream",
     "text": [
      "Files: ABNAMRO_20220101_20230101.xls ABN_AMRO_DATA.xls XLS230109103200.xls XLS230125124527.xls have been converted to dataframe.\n",
      "\n"
     ]
    },
    {
     "data": {
      "text/html": [
       "<div>\n",
       "<style scoped>\n",
       "    .dataframe tbody tr th:only-of-type {\n",
       "        vertical-align: middle;\n",
       "    }\n",
       "\n",
       "    .dataframe tbody tr th {\n",
       "        vertical-align: top;\n",
       "    }\n",
       "\n",
       "    .dataframe thead th {\n",
       "        text-align: right;\n",
       "    }\n",
       "</style>\n",
       "<table border=\"1\" class=\"dataframe\">\n",
       "  <thead>\n",
       "    <tr style=\"text-align: right;\">\n",
       "      <th></th>\n",
       "      <th>accountNumber</th>\n",
       "      <th>mutationcode</th>\n",
       "      <th>transactiondate</th>\n",
       "      <th>valuedate</th>\n",
       "      <th>startsaldo</th>\n",
       "      <th>endsaldo</th>\n",
       "      <th>amount</th>\n",
       "      <th>description</th>\n",
       "    </tr>\n",
       "  </thead>\n",
       "  <tbody>\n",
       "    <tr>\n",
       "      <th>0</th>\n",
       "      <td>887098665</td>\n",
       "      <td>EUR</td>\n",
       "      <td>20220103</td>\n",
       "      <td>20220103</td>\n",
       "      <td>6642.17</td>\n",
       "      <td>6572.90</td>\n",
       "      <td>-69.27</td>\n",
       "      <td>SEPA Incasso algemeen doorlopend Incassant: NL...</td>\n",
       "    </tr>\n",
       "    <tr>\n",
       "      <th>1</th>\n",
       "      <td>887098665</td>\n",
       "      <td>EUR</td>\n",
       "      <td>20220103</td>\n",
       "      <td>20220103</td>\n",
       "      <td>6572.90</td>\n",
       "      <td>6571.30</td>\n",
       "      <td>-1.60</td>\n",
       "      <td>SEPA Incasso algemeen doorlopend Incassant: NL...</td>\n",
       "    </tr>\n",
       "    <tr>\n",
       "      <th>2</th>\n",
       "      <td>887098665</td>\n",
       "      <td>EUR</td>\n",
       "      <td>20220103</td>\n",
       "      <td>20220103</td>\n",
       "      <td>6571.30</td>\n",
       "      <td>6512.70</td>\n",
       "      <td>-58.60</td>\n",
       "      <td>SEPA Incasso algemeen doorlopend Incassant: NL...</td>\n",
       "    </tr>\n",
       "    <tr>\n",
       "      <th>3</th>\n",
       "      <td>887098665</td>\n",
       "      <td>EUR</td>\n",
       "      <td>20220103</td>\n",
       "      <td>20220103</td>\n",
       "      <td>6512.70</td>\n",
       "      <td>6785.75</td>\n",
       "      <td>273.05</td>\n",
       "      <td>SEPA Overboeking                 IBAN: NL16RAB...</td>\n",
       "    </tr>\n",
       "    <tr>\n",
       "      <th>4</th>\n",
       "      <td>887098665</td>\n",
       "      <td>EUR</td>\n",
       "      <td>20220104</td>\n",
       "      <td>20220104</td>\n",
       "      <td>6785.75</td>\n",
       "      <td>6781.36</td>\n",
       "      <td>-4.39</td>\n",
       "      <td>SEPA Incasso algemeen doorlopend Incassant: NL...</td>\n",
       "    </tr>\n",
       "    <tr>\n",
       "      <th>...</th>\n",
       "      <td>...</td>\n",
       "      <td>...</td>\n",
       "      <td>...</td>\n",
       "      <td>...</td>\n",
       "      <td>...</td>\n",
       "      <td>...</td>\n",
       "      <td>...</td>\n",
       "      <td>...</td>\n",
       "    </tr>\n",
       "    <tr>\n",
       "      <th>39</th>\n",
       "      <td>887098665</td>\n",
       "      <td>EUR</td>\n",
       "      <td>20230124</td>\n",
       "      <td>20230124</td>\n",
       "      <td>3407.95</td>\n",
       "      <td>3398.45</td>\n",
       "      <td>-9.50</td>\n",
       "      <td>/TRTP/SEPA Incasso algemeen doorlopend/CSID/NL...</td>\n",
       "    </tr>\n",
       "    <tr>\n",
       "      <th>40</th>\n",
       "      <td>887098665</td>\n",
       "      <td>EUR</td>\n",
       "      <td>20230124</td>\n",
       "      <td>20230124</td>\n",
       "      <td>3398.45</td>\n",
       "      <td>3386.95</td>\n",
       "      <td>-11.50</td>\n",
       "      <td>/TRTP/SEPA Incasso algemeen doorlopend/CSID/NL...</td>\n",
       "    </tr>\n",
       "    <tr>\n",
       "      <th>41</th>\n",
       "      <td>887098665</td>\n",
       "      <td>EUR</td>\n",
       "      <td>20230124</td>\n",
       "      <td>20230124</td>\n",
       "      <td>3386.95</td>\n",
       "      <td>3354.43</td>\n",
       "      <td>-32.52</td>\n",
       "      <td>BEA, Betaalpas                   Jumbo Eindhov...</td>\n",
       "    </tr>\n",
       "    <tr>\n",
       "      <th>42</th>\n",
       "      <td>887098665</td>\n",
       "      <td>EUR</td>\n",
       "      <td>20230124</td>\n",
       "      <td>20230124</td>\n",
       "      <td>3354.43</td>\n",
       "      <td>3314.43</td>\n",
       "      <td>-40.00</td>\n",
       "      <td>GEA, Betaalpas                   Geldmaat Meer...</td>\n",
       "    </tr>\n",
       "    <tr>\n",
       "      <th>43</th>\n",
       "      <td>887098665</td>\n",
       "      <td>EUR</td>\n",
       "      <td>20230125</td>\n",
       "      <td>20230125</td>\n",
       "      <td>3314.43</td>\n",
       "      <td>9049.45</td>\n",
       "      <td>5735.02</td>\n",
       "      <td>/TRTP/SEPA OVERBOEKING/IBAN/NL98RABO0340894121...</td>\n",
       "    </tr>\n",
       "  </tbody>\n",
       "</table>\n",
       "<p>2357 rows × 8 columns</p>\n",
       "</div>"
      ],
      "text/plain": [
       "    accountNumber mutationcode  transactiondate  valuedate  startsaldo  \\\n",
       "0       887098665          EUR         20220103   20220103     6642.17   \n",
       "1       887098665          EUR         20220103   20220103     6572.90   \n",
       "2       887098665          EUR         20220103   20220103     6571.30   \n",
       "3       887098665          EUR         20220103   20220103     6512.70   \n",
       "4       887098665          EUR         20220104   20220104     6785.75   \n",
       "..            ...          ...              ...        ...         ...   \n",
       "39      887098665          EUR         20230124   20230124     3407.95   \n",
       "40      887098665          EUR         20230124   20230124     3398.45   \n",
       "41      887098665          EUR         20230124   20230124     3386.95   \n",
       "42      887098665          EUR         20230124   20230124     3354.43   \n",
       "43      887098665          EUR         20230125   20230125     3314.43   \n",
       "\n",
       "    endsaldo   amount                                        description  \n",
       "0    6572.90   -69.27  SEPA Incasso algemeen doorlopend Incassant: NL...  \n",
       "1    6571.30    -1.60  SEPA Incasso algemeen doorlopend Incassant: NL...  \n",
       "2    6512.70   -58.60  SEPA Incasso algemeen doorlopend Incassant: NL...  \n",
       "3    6785.75   273.05  SEPA Overboeking                 IBAN: NL16RAB...  \n",
       "4    6781.36    -4.39  SEPA Incasso algemeen doorlopend Incassant: NL...  \n",
       "..       ...      ...                                                ...  \n",
       "39   3398.45    -9.50  /TRTP/SEPA Incasso algemeen doorlopend/CSID/NL...  \n",
       "40   3386.95   -11.50  /TRTP/SEPA Incasso algemeen doorlopend/CSID/NL...  \n",
       "41   3354.43   -32.52  BEA, Betaalpas                   Jumbo Eindhov...  \n",
       "42   3314.43   -40.00  GEA, Betaalpas                   Geldmaat Meer...  \n",
       "43   9049.45  5735.02  /TRTP/SEPA OVERBOEKING/IBAN/NL98RABO0340894121...  \n",
       "\n",
       "[2357 rows x 8 columns]"
      ]
     },
     "execution_count": 2,
     "metadata": {},
     "output_type": "execute_result"
    }
   ],
   "source": [
    "mypath = r\"C:\\Users\\Erdinc\\Desktop\\DATA_SCIENCE\\01_BANKA\\DATA\"\n",
    "files = listdir(mypath)\n",
    "xls_files = []\n",
    "#print(files)\n",
    "for file in files:\n",
    "    if \".xls\" in file:\n",
    "        xls_files.append(file)\n",
    "    elif \".xlsx\" in file:\n",
    "        xls_files.append(file)\n",
    "#print(xls_list)\n",
    "\n",
    "#her exceli ayrı dataframe yapar ve dataFramelist listesinde tutar\n",
    "dataFramelist = []\n",
    "abnAmro = pd.DataFrame() #boş dataFrame\n",
    "#\n",
    "for xls_file in xls_files:\n",
    "    #file = mypath + \"\\\\\" + xls_file\n",
    "    #dataFramelist.append(exec(\"dFrame_{} = pd.read_excel(file)\".format(i)))\n",
    "    dataFramelist.append(pd.read_excel(mypath + \"\\\\\" + xls_file))\n",
    "    #exec(\"dFrame_{}\".format(i))\n",
    "\n",
    "#tüm listenin içindeki dataframeleri tek bir abnAmro dataframe ine dönüştürür.\n",
    "\n",
    "print(\"Files:\", end= \" \")\n",
    "for i in xls_files:\n",
    "    print(i,end=\" \")\n",
    "print(\"have been converted to dataframe.\\n\")\n",
    "\n",
    "abnAmro = pd.concat(dataFramelist)\n",
    "abnAmro    \n",
    "\n",
    "#data_dict[i] = pd.read_excel(mypath + \"\\\\\" + xls_file)\n"
   ]
  },
  {
   "cell_type": "markdown",
   "id": "e4292781-8ed6-4e51-b3f7-7ddfb8cd34e4",
   "metadata": {
    "tags": []
   },
   "source": [
    "## Klasördeki Excel dosyalarını seçer ve tüm excel dosyalarını tek DataFrame e doönüştürür"
   ]
  },
  {
   "cell_type": "code",
   "execution_count": 3,
   "id": "f019c793-43c8-4570-9735-046138100fbc",
   "metadata": {},
   "outputs": [],
   "source": [
    "#mypath = r\"C:\\Users\\Erdinc\\Desktop\\DATA_SCIENCE\\01_BANKA\\DATA\"\n",
    "#onlyfiles = [f for f in listdir(mypath) if isfile(join(mypath, f))]\n",
    "#print(f)"
   ]
  },
  {
   "cell_type": "code",
   "execution_count": 4,
   "id": "ede73aac-26b1-4364-a77f-feb2fc954152",
   "metadata": {},
   "outputs": [
    {
     "data": {
      "text/html": [
       "<div>\n",
       "<style scoped>\n",
       "    .dataframe tbody tr th:only-of-type {\n",
       "        vertical-align: middle;\n",
       "    }\n",
       "\n",
       "    .dataframe tbody tr th {\n",
       "        vertical-align: top;\n",
       "    }\n",
       "\n",
       "    .dataframe thead th {\n",
       "        text-align: right;\n",
       "    }\n",
       "</style>\n",
       "<table border=\"1\" class=\"dataframe\">\n",
       "  <thead>\n",
       "    <tr style=\"text-align: right;\">\n",
       "      <th></th>\n",
       "      <th>Accountnumber</th>\n",
       "      <th>Mutationcode</th>\n",
       "      <th>Transactiondate</th>\n",
       "      <th>Valuedate</th>\n",
       "      <th>Startsaldo</th>\n",
       "      <th>Endsaldo</th>\n",
       "      <th>Amount</th>\n",
       "      <th>Description</th>\n",
       "    </tr>\n",
       "  </thead>\n",
       "  <tbody>\n",
       "    <tr>\n",
       "      <th>0</th>\n",
       "      <td>887098665</td>\n",
       "      <td>EUR</td>\n",
       "      <td>20220103</td>\n",
       "      <td>20220103</td>\n",
       "      <td>6642.17</td>\n",
       "      <td>6572.90</td>\n",
       "      <td>-69.27</td>\n",
       "      <td>SEPA Incasso algemeen doorlopend Incassant: NL...</td>\n",
       "    </tr>\n",
       "    <tr>\n",
       "      <th>1</th>\n",
       "      <td>887098665</td>\n",
       "      <td>EUR</td>\n",
       "      <td>20220103</td>\n",
       "      <td>20220103</td>\n",
       "      <td>6572.90</td>\n",
       "      <td>6571.30</td>\n",
       "      <td>-1.60</td>\n",
       "      <td>SEPA Incasso algemeen doorlopend Incassant: NL...</td>\n",
       "    </tr>\n",
       "    <tr>\n",
       "      <th>2</th>\n",
       "      <td>887098665</td>\n",
       "      <td>EUR</td>\n",
       "      <td>20220103</td>\n",
       "      <td>20220103</td>\n",
       "      <td>6571.30</td>\n",
       "      <td>6512.70</td>\n",
       "      <td>-58.60</td>\n",
       "      <td>SEPA Incasso algemeen doorlopend Incassant: NL...</td>\n",
       "    </tr>\n",
       "    <tr>\n",
       "      <th>3</th>\n",
       "      <td>887098665</td>\n",
       "      <td>EUR</td>\n",
       "      <td>20220103</td>\n",
       "      <td>20220103</td>\n",
       "      <td>6512.70</td>\n",
       "      <td>6785.75</td>\n",
       "      <td>273.05</td>\n",
       "      <td>SEPA Overboeking                 IBAN: NL16RAB...</td>\n",
       "    </tr>\n",
       "    <tr>\n",
       "      <th>4</th>\n",
       "      <td>887098665</td>\n",
       "      <td>EUR</td>\n",
       "      <td>20220104</td>\n",
       "      <td>20220104</td>\n",
       "      <td>6785.75</td>\n",
       "      <td>6781.36</td>\n",
       "      <td>-4.39</td>\n",
       "      <td>SEPA Incasso algemeen doorlopend Incassant: NL...</td>\n",
       "    </tr>\n",
       "    <tr>\n",
       "      <th>...</th>\n",
       "      <td>...</td>\n",
       "      <td>...</td>\n",
       "      <td>...</td>\n",
       "      <td>...</td>\n",
       "      <td>...</td>\n",
       "      <td>...</td>\n",
       "      <td>...</td>\n",
       "      <td>...</td>\n",
       "    </tr>\n",
       "    <tr>\n",
       "      <th>39</th>\n",
       "      <td>887098665</td>\n",
       "      <td>EUR</td>\n",
       "      <td>20230124</td>\n",
       "      <td>20230124</td>\n",
       "      <td>3407.95</td>\n",
       "      <td>3398.45</td>\n",
       "      <td>-9.50</td>\n",
       "      <td>/TRTP/SEPA Incasso algemeen doorlopend/CSID/NL...</td>\n",
       "    </tr>\n",
       "    <tr>\n",
       "      <th>40</th>\n",
       "      <td>887098665</td>\n",
       "      <td>EUR</td>\n",
       "      <td>20230124</td>\n",
       "      <td>20230124</td>\n",
       "      <td>3398.45</td>\n",
       "      <td>3386.95</td>\n",
       "      <td>-11.50</td>\n",
       "      <td>/TRTP/SEPA Incasso algemeen doorlopend/CSID/NL...</td>\n",
       "    </tr>\n",
       "    <tr>\n",
       "      <th>41</th>\n",
       "      <td>887098665</td>\n",
       "      <td>EUR</td>\n",
       "      <td>20230124</td>\n",
       "      <td>20230124</td>\n",
       "      <td>3386.95</td>\n",
       "      <td>3354.43</td>\n",
       "      <td>-32.52</td>\n",
       "      <td>BEA, Betaalpas                   Jumbo Eindhov...</td>\n",
       "    </tr>\n",
       "    <tr>\n",
       "      <th>42</th>\n",
       "      <td>887098665</td>\n",
       "      <td>EUR</td>\n",
       "      <td>20230124</td>\n",
       "      <td>20230124</td>\n",
       "      <td>3354.43</td>\n",
       "      <td>3314.43</td>\n",
       "      <td>-40.00</td>\n",
       "      <td>GEA, Betaalpas                   Geldmaat Meer...</td>\n",
       "    </tr>\n",
       "    <tr>\n",
       "      <th>43</th>\n",
       "      <td>887098665</td>\n",
       "      <td>EUR</td>\n",
       "      <td>20230125</td>\n",
       "      <td>20230125</td>\n",
       "      <td>3314.43</td>\n",
       "      <td>9049.45</td>\n",
       "      <td>5735.02</td>\n",
       "      <td>/TRTP/SEPA OVERBOEKING/IBAN/NL98RABO0340894121...</td>\n",
       "    </tr>\n",
       "  </tbody>\n",
       "</table>\n",
       "<p>1410 rows × 8 columns</p>\n",
       "</div>"
      ],
      "text/plain": [
       "    Accountnumber Mutationcode  Transactiondate  Valuedate  Startsaldo  \\\n",
       "0       887098665          EUR         20220103   20220103     6642.17   \n",
       "1       887098665          EUR         20220103   20220103     6572.90   \n",
       "2       887098665          EUR         20220103   20220103     6571.30   \n",
       "3       887098665          EUR         20220103   20220103     6512.70   \n",
       "4       887098665          EUR         20220104   20220104     6785.75   \n",
       "..            ...          ...              ...        ...         ...   \n",
       "39      887098665          EUR         20230124   20230124     3407.95   \n",
       "40      887098665          EUR         20230124   20230124     3398.45   \n",
       "41      887098665          EUR         20230124   20230124     3386.95   \n",
       "42      887098665          EUR         20230124   20230124     3354.43   \n",
       "43      887098665          EUR         20230125   20230125     3314.43   \n",
       "\n",
       "    Endsaldo   Amount                                        Description  \n",
       "0    6572.90   -69.27  SEPA Incasso algemeen doorlopend Incassant: NL...  \n",
       "1    6571.30    -1.60  SEPA Incasso algemeen doorlopend Incassant: NL...  \n",
       "2    6512.70   -58.60  SEPA Incasso algemeen doorlopend Incassant: NL...  \n",
       "3    6785.75   273.05  SEPA Overboeking                 IBAN: NL16RAB...  \n",
       "4    6781.36    -4.39  SEPA Incasso algemeen doorlopend Incassant: NL...  \n",
       "..       ...      ...                                                ...  \n",
       "39   3398.45    -9.50  /TRTP/SEPA Incasso algemeen doorlopend/CSID/NL...  \n",
       "40   3386.95   -11.50  /TRTP/SEPA Incasso algemeen doorlopend/CSID/NL...  \n",
       "41   3354.43   -32.52  BEA, Betaalpas                   Jumbo Eindhov...  \n",
       "42   3314.43   -40.00  GEA, Betaalpas                   Geldmaat Meer...  \n",
       "43   9049.45  5735.02  /TRTP/SEPA OVERBOEKING/IBAN/NL98RABO0340894121...  \n",
       "\n",
       "[1410 rows x 8 columns]"
      ]
     },
     "execution_count": 4,
     "metadata": {},
     "output_type": "execute_result"
    }
   ],
   "source": [
    "#abnAmro = pd.read_excel(\"DATA/ABN_AMRO_DATA.xls\")\n",
    "df =abnAmro.copy()\n",
    "df.columns = map(str.capitalize, df.columns)\n",
    "df.drop_duplicates(inplace=True)\n",
    "df"
   ]
  },
  {
   "cell_type": "code",
   "execution_count": 5,
   "id": "4a03d204-fb3e-44de-af9e-734304b21861",
   "metadata": {},
   "outputs": [],
   "source": [
    "df.reset_index(drop=True, inplace=True)"
   ]
  },
  {
   "cell_type": "code",
   "execution_count": 6,
   "id": "3329dacd-ba57-4e45-967d-1dd711d9c58c",
   "metadata": {},
   "outputs": [
    {
     "name": "stdout",
     "output_type": "stream",
     "text": [
      "<class 'pandas.core.frame.DataFrame'>\n",
      "RangeIndex: 1410 entries, 0 to 1409\n",
      "Data columns (total 8 columns):\n",
      " #   Column           Non-Null Count  Dtype  \n",
      "---  ------           --------------  -----  \n",
      " 0   Accountnumber    1410 non-null   int64  \n",
      " 1   Mutationcode     1410 non-null   object \n",
      " 2   Transactiondate  1410 non-null   int64  \n",
      " 3   Valuedate        1410 non-null   int64  \n",
      " 4   Startsaldo       1410 non-null   float64\n",
      " 5   Endsaldo         1410 non-null   float64\n",
      " 6   Amount           1410 non-null   float64\n",
      " 7   Description      1410 non-null   object \n",
      "dtypes: float64(3), int64(3), object(2)\n",
      "memory usage: 88.2+ KB\n"
     ]
    }
   ],
   "source": [
    "df.info()"
   ]
  },
  {
   "cell_type": "code",
   "execution_count": 7,
   "id": "8afdd7a4-3448-447d-8921-88dce599d0d8",
   "metadata": {},
   "outputs": [
    {
     "data": {
      "text/plain": [
       "array([887098665], dtype=int64)"
      ]
     },
     "execution_count": 7,
     "metadata": {},
     "output_type": "execute_result"
    }
   ],
   "source": [
    "df.Accountnumber.unique()"
   ]
  },
  {
   "cell_type": "markdown",
   "id": "ae1e9eaf-af81-44d1-813c-5468d8b4c059",
   "metadata": {},
   "source": [
    "# Dropping irrelevant columns\n"
   ]
  },
  {
   "cell_type": "code",
   "execution_count": 8,
   "id": "ef147e06-6ae8-4ac8-89cb-6db21eab2152",
   "metadata": {},
   "outputs": [],
   "source": [
    "to_drop = [\"Accountnumber\",\"Mutationcode\",\"Valuedate\"]\n",
    "df.drop(to_drop,inplace=True,axis = 1)\n"
   ]
  },
  {
   "cell_type": "code",
   "execution_count": 9,
   "id": "e6842905-f318-464a-9d9e-e357bf1d6de4",
   "metadata": {},
   "outputs": [
    {
     "data": {
      "text/html": [
       "<div>\n",
       "<style scoped>\n",
       "    .dataframe tbody tr th:only-of-type {\n",
       "        vertical-align: middle;\n",
       "    }\n",
       "\n",
       "    .dataframe tbody tr th {\n",
       "        vertical-align: top;\n",
       "    }\n",
       "\n",
       "    .dataframe thead th {\n",
       "        text-align: right;\n",
       "    }\n",
       "</style>\n",
       "<table border=\"1\" class=\"dataframe\">\n",
       "  <thead>\n",
       "    <tr style=\"text-align: right;\">\n",
       "      <th></th>\n",
       "      <th>Date</th>\n",
       "      <th>StartBalance</th>\n",
       "      <th>EndBalance</th>\n",
       "      <th>Amount</th>\n",
       "      <th>Description</th>\n",
       "    </tr>\n",
       "  </thead>\n",
       "  <tbody>\n",
       "    <tr>\n",
       "      <th>0</th>\n",
       "      <td>20220103</td>\n",
       "      <td>6642.17</td>\n",
       "      <td>6572.90</td>\n",
       "      <td>-69.27</td>\n",
       "      <td>SEPA Incasso algemeen doorlopend Incassant: NL...</td>\n",
       "    </tr>\n",
       "    <tr>\n",
       "      <th>1</th>\n",
       "      <td>20220103</td>\n",
       "      <td>6572.90</td>\n",
       "      <td>6571.30</td>\n",
       "      <td>-1.60</td>\n",
       "      <td>SEPA Incasso algemeen doorlopend Incassant: NL...</td>\n",
       "    </tr>\n",
       "    <tr>\n",
       "      <th>2</th>\n",
       "      <td>20220103</td>\n",
       "      <td>6571.30</td>\n",
       "      <td>6512.70</td>\n",
       "      <td>-58.60</td>\n",
       "      <td>SEPA Incasso algemeen doorlopend Incassant: NL...</td>\n",
       "    </tr>\n",
       "    <tr>\n",
       "      <th>3</th>\n",
       "      <td>20220103</td>\n",
       "      <td>6512.70</td>\n",
       "      <td>6785.75</td>\n",
       "      <td>273.05</td>\n",
       "      <td>SEPA Overboeking                 IBAN: NL16RAB...</td>\n",
       "    </tr>\n",
       "    <tr>\n",
       "      <th>4</th>\n",
       "      <td>20220104</td>\n",
       "      <td>6785.75</td>\n",
       "      <td>6781.36</td>\n",
       "      <td>-4.39</td>\n",
       "      <td>SEPA Incasso algemeen doorlopend Incassant: NL...</td>\n",
       "    </tr>\n",
       "    <tr>\n",
       "      <th>...</th>\n",
       "      <td>...</td>\n",
       "      <td>...</td>\n",
       "      <td>...</td>\n",
       "      <td>...</td>\n",
       "      <td>...</td>\n",
       "    </tr>\n",
       "    <tr>\n",
       "      <th>1405</th>\n",
       "      <td>20230124</td>\n",
       "      <td>3407.95</td>\n",
       "      <td>3398.45</td>\n",
       "      <td>-9.50</td>\n",
       "      <td>/TRTP/SEPA Incasso algemeen doorlopend/CSID/NL...</td>\n",
       "    </tr>\n",
       "    <tr>\n",
       "      <th>1406</th>\n",
       "      <td>20230124</td>\n",
       "      <td>3398.45</td>\n",
       "      <td>3386.95</td>\n",
       "      <td>-11.50</td>\n",
       "      <td>/TRTP/SEPA Incasso algemeen doorlopend/CSID/NL...</td>\n",
       "    </tr>\n",
       "    <tr>\n",
       "      <th>1407</th>\n",
       "      <td>20230124</td>\n",
       "      <td>3386.95</td>\n",
       "      <td>3354.43</td>\n",
       "      <td>-32.52</td>\n",
       "      <td>BEA, Betaalpas                   Jumbo Eindhov...</td>\n",
       "    </tr>\n",
       "    <tr>\n",
       "      <th>1408</th>\n",
       "      <td>20230124</td>\n",
       "      <td>3354.43</td>\n",
       "      <td>3314.43</td>\n",
       "      <td>-40.00</td>\n",
       "      <td>GEA, Betaalpas                   Geldmaat Meer...</td>\n",
       "    </tr>\n",
       "    <tr>\n",
       "      <th>1409</th>\n",
       "      <td>20230125</td>\n",
       "      <td>3314.43</td>\n",
       "      <td>9049.45</td>\n",
       "      <td>5735.02</td>\n",
       "      <td>/TRTP/SEPA OVERBOEKING/IBAN/NL98RABO0340894121...</td>\n",
       "    </tr>\n",
       "  </tbody>\n",
       "</table>\n",
       "<p>1410 rows × 5 columns</p>\n",
       "</div>"
      ],
      "text/plain": [
       "          Date  StartBalance  EndBalance   Amount  \\\n",
       "0     20220103       6642.17     6572.90   -69.27   \n",
       "1     20220103       6572.90     6571.30    -1.60   \n",
       "2     20220103       6571.30     6512.70   -58.60   \n",
       "3     20220103       6512.70     6785.75   273.05   \n",
       "4     20220104       6785.75     6781.36    -4.39   \n",
       "...        ...           ...         ...      ...   \n",
       "1405  20230124       3407.95     3398.45    -9.50   \n",
       "1406  20230124       3398.45     3386.95   -11.50   \n",
       "1407  20230124       3386.95     3354.43   -32.52   \n",
       "1408  20230124       3354.43     3314.43   -40.00   \n",
       "1409  20230125       3314.43     9049.45  5735.02   \n",
       "\n",
       "                                            Description  \n",
       "0     SEPA Incasso algemeen doorlopend Incassant: NL...  \n",
       "1     SEPA Incasso algemeen doorlopend Incassant: NL...  \n",
       "2     SEPA Incasso algemeen doorlopend Incassant: NL...  \n",
       "3     SEPA Overboeking                 IBAN: NL16RAB...  \n",
       "4     SEPA Incasso algemeen doorlopend Incassant: NL...  \n",
       "...                                                 ...  \n",
       "1405  /TRTP/SEPA Incasso algemeen doorlopend/CSID/NL...  \n",
       "1406  /TRTP/SEPA Incasso algemeen doorlopend/CSID/NL...  \n",
       "1407  BEA, Betaalpas                   Jumbo Eindhov...  \n",
       "1408  GEA, Betaalpas                   Geldmaat Meer...  \n",
       "1409  /TRTP/SEPA OVERBOEKING/IBAN/NL98RABO0340894121...  \n",
       "\n",
       "[1410 rows x 5 columns]"
      ]
     },
     "execution_count": 9,
     "metadata": {},
     "output_type": "execute_result"
    }
   ],
   "source": [
    "#Tanımlamalar\n",
    "column_rename = {\"Transactiondate\":\"Date\",\n",
    "                 \"Startsaldo\":\"StartBalance\",\n",
    "                 \"Endsaldo\":\"EndBalance\"}\n",
    "df = df.rename(columns=column_rename)\n",
    "df"
   ]
  },
  {
   "cell_type": "markdown",
   "id": "26c57c23-9562-4165-9783-9b08d4535ea7",
   "metadata": {},
   "source": [
    "# Tarihleri date formatina dönüştürüyor"
   ]
  },
  {
   "cell_type": "code",
   "execution_count": 10,
   "id": "b2352ca5-a6a3-476a-83c8-63d41709bd24",
   "metadata": {},
   "outputs": [],
   "source": [
    "df[\"Date\"] = pd.to_datetime(df[\"Date\"], format=\"%Y%m%d\")\n",
    "#df[\"valueDate\"] = pd.to_datetime(df.valueDate, format=\"%Y%m%d\")\n",
    "df.sort_values([\"Date\"], ignore_index=True, inplace=True)"
   ]
  },
  {
   "cell_type": "code",
   "execution_count": 11,
   "id": "ec8a295d-b711-4850-837c-dbef4627e077",
   "metadata": {},
   "outputs": [
    {
     "name": "stdout",
     "output_type": "stream",
     "text": [
      "<class 'pandas.core.frame.DataFrame'>\n",
      "RangeIndex: 1410 entries, 0 to 1409\n",
      "Data columns (total 5 columns):\n",
      " #   Column        Non-Null Count  Dtype         \n",
      "---  ------        --------------  -----         \n",
      " 0   Date          1410 non-null   datetime64[ns]\n",
      " 1   StartBalance  1410 non-null   float64       \n",
      " 2   EndBalance    1410 non-null   float64       \n",
      " 3   Amount        1410 non-null   float64       \n",
      " 4   Description   1410 non-null   object        \n",
      "dtypes: datetime64[ns](1), float64(3), object(1)\n",
      "memory usage: 55.2+ KB\n"
     ]
    }
   ],
   "source": [
    "df.info()"
   ]
  },
  {
   "cell_type": "code",
   "execution_count": 12,
   "id": "5a89cbf9-2c67-4f52-a578-0edbd8f9b249",
   "metadata": {
    "tags": []
   },
   "outputs": [
    {
     "data": {
      "text/plain": [
       "0          July\n",
       "1          July\n",
       "2          July\n",
       "3          July\n",
       "4          July\n",
       "         ...   \n",
       "1405    January\n",
       "1406    January\n",
       "1407    January\n",
       "1408    January\n",
       "1409    January\n",
       "Name: Date, Length: 1410, dtype: object"
      ]
     },
     "execution_count": 12,
     "metadata": {},
     "output_type": "execute_result"
    }
   ],
   "source": [
    "df[\"Date\"].dt.month_name()"
   ]
  },
  {
   "cell_type": "code",
   "execution_count": 13,
   "id": "4ad3c07f-10e9-493b-a56d-3cb81cb1917a",
   "metadata": {
    "tags": []
   },
   "outputs": [
    {
     "data": {
      "text/plain": [
       "0       2021\n",
       "1       2021\n",
       "2       2021\n",
       "3       2021\n",
       "4       2021\n",
       "        ... \n",
       "1405    2023\n",
       "1406    2023\n",
       "1407    2023\n",
       "1408    2023\n",
       "1409    2023\n",
       "Name: Date, Length: 1410, dtype: int64"
      ]
     },
     "execution_count": 13,
     "metadata": {},
     "output_type": "execute_result"
    }
   ],
   "source": [
    "df.Date.dt.year"
   ]
  },
  {
   "cell_type": "code",
   "execution_count": 14,
   "id": "a592b01c-b8f1-4395-91fe-39715652383c",
   "metadata": {},
   "outputs": [],
   "source": [
    "df.loc[df[\"Amount\"] > 0,[\"Debit/credit\"]] = \"Credit\"\n",
    "df.loc[df[\"Amount\"] < 0,[\"Debit/credit\"]] = \"Debit\""
   ]
  },
  {
   "cell_type": "code",
   "execution_count": 15,
   "id": "e58d88d8-67ca-4db8-bd08-234f2747e85b",
   "metadata": {},
   "outputs": [
    {
     "data": {
      "text/html": [
       "<div>\n",
       "<style scoped>\n",
       "    .dataframe tbody tr th:only-of-type {\n",
       "        vertical-align: middle;\n",
       "    }\n",
       "\n",
       "    .dataframe tbody tr th {\n",
       "        vertical-align: top;\n",
       "    }\n",
       "\n",
       "    .dataframe thead th {\n",
       "        text-align: right;\n",
       "    }\n",
       "</style>\n",
       "<table border=\"1\" class=\"dataframe\">\n",
       "  <thead>\n",
       "    <tr style=\"text-align: right;\">\n",
       "      <th></th>\n",
       "      <th>Date</th>\n",
       "      <th>StartBalance</th>\n",
       "      <th>EndBalance</th>\n",
       "      <th>Amount</th>\n",
       "      <th>Description</th>\n",
       "      <th>Debit/credit</th>\n",
       "      <th>Day</th>\n",
       "      <th>Month</th>\n",
       "      <th>Year</th>\n",
       "      <th>Label</th>\n",
       "      <th>BankName</th>\n",
       "      <th>Amount (EUR)</th>\n",
       "    </tr>\n",
       "  </thead>\n",
       "  <tbody>\n",
       "    <tr>\n",
       "      <th>0</th>\n",
       "      <td>2021-07-09</td>\n",
       "      <td>34839.01</td>\n",
       "      <td>34838.52</td>\n",
       "      <td>-0.49</td>\n",
       "      <td>BEA   NR:N179K7   09.07.21/12.55 Jumbo Eindh B...</td>\n",
       "      <td>Debit</td>\n",
       "      <td>Friday</td>\n",
       "      <td>July</td>\n",
       "      <td>2021</td>\n",
       "      <td>None</td>\n",
       "      <td>ABN AMRO</td>\n",
       "      <td>0.49</td>\n",
       "    </tr>\n",
       "    <tr>\n",
       "      <th>1</th>\n",
       "      <td>2021-07-09</td>\n",
       "      <td>34796.68</td>\n",
       "      <td>34786.84</td>\n",
       "      <td>-9.84</td>\n",
       "      <td>BEA   NR:4QKP08   09.07.21/20.32 Jumbo 229276,...</td>\n",
       "      <td>Debit</td>\n",
       "      <td>Friday</td>\n",
       "      <td>July</td>\n",
       "      <td>2021</td>\n",
       "      <td>None</td>\n",
       "      <td>ABN AMRO</td>\n",
       "      <td>9.84</td>\n",
       "    </tr>\n",
       "    <tr>\n",
       "      <th>2</th>\n",
       "      <td>2021-07-09</td>\n",
       "      <td>34799.37</td>\n",
       "      <td>34796.68</td>\n",
       "      <td>-2.69</td>\n",
       "      <td>BEA   NR:96BS02   09.07.21/19.26 GAMMA Son en ...</td>\n",
       "      <td>Debit</td>\n",
       "      <td>Friday</td>\n",
       "      <td>July</td>\n",
       "      <td>2021</td>\n",
       "      <td>None</td>\n",
       "      <td>ABN AMRO</td>\n",
       "      <td>2.69</td>\n",
       "    </tr>\n",
       "    <tr>\n",
       "      <th>3</th>\n",
       "      <td>2021-07-09</td>\n",
       "      <td>34838.52</td>\n",
       "      <td>34817.84</td>\n",
       "      <td>-20.68</td>\n",
       "      <td>BEA   NR:72327610 09.07.21/13.26 Action 1235,P...</td>\n",
       "      <td>Debit</td>\n",
       "      <td>Friday</td>\n",
       "      <td>July</td>\n",
       "      <td>2021</td>\n",
       "      <td>None</td>\n",
       "      <td>ABN AMRO</td>\n",
       "      <td>20.68</td>\n",
       "    </tr>\n",
       "    <tr>\n",
       "      <th>4</th>\n",
       "      <td>2021-07-09</td>\n",
       "      <td>34817.84</td>\n",
       "      <td>34804.97</td>\n",
       "      <td>-12.87</td>\n",
       "      <td>BEA   NR:N179K7   09.07.21/13.52 Jumbo Eindh B...</td>\n",
       "      <td>Debit</td>\n",
       "      <td>Friday</td>\n",
       "      <td>July</td>\n",
       "      <td>2021</td>\n",
       "      <td>None</td>\n",
       "      <td>ABN AMRO</td>\n",
       "      <td>12.87</td>\n",
       "    </tr>\n",
       "    <tr>\n",
       "      <th>...</th>\n",
       "      <td>...</td>\n",
       "      <td>...</td>\n",
       "      <td>...</td>\n",
       "      <td>...</td>\n",
       "      <td>...</td>\n",
       "      <td>...</td>\n",
       "      <td>...</td>\n",
       "      <td>...</td>\n",
       "      <td>...</td>\n",
       "      <td>...</td>\n",
       "      <td>...</td>\n",
       "      <td>...</td>\n",
       "    </tr>\n",
       "    <tr>\n",
       "      <th>1405</th>\n",
       "      <td>2023-01-24</td>\n",
       "      <td>3407.95</td>\n",
       "      <td>3398.45</td>\n",
       "      <td>-9.50</td>\n",
       "      <td>/TRTP/SEPA Incasso algemeen doorlopend/CSID/NL...</td>\n",
       "      <td>Debit</td>\n",
       "      <td>Tuesday</td>\n",
       "      <td>January</td>\n",
       "      <td>2023</td>\n",
       "      <td>None</td>\n",
       "      <td>ABN AMRO</td>\n",
       "      <td>9.50</td>\n",
       "    </tr>\n",
       "    <tr>\n",
       "      <th>1406</th>\n",
       "      <td>2023-01-24</td>\n",
       "      <td>3398.45</td>\n",
       "      <td>3386.95</td>\n",
       "      <td>-11.50</td>\n",
       "      <td>/TRTP/SEPA Incasso algemeen doorlopend/CSID/NL...</td>\n",
       "      <td>Debit</td>\n",
       "      <td>Tuesday</td>\n",
       "      <td>January</td>\n",
       "      <td>2023</td>\n",
       "      <td>None</td>\n",
       "      <td>ABN AMRO</td>\n",
       "      <td>11.50</td>\n",
       "    </tr>\n",
       "    <tr>\n",
       "      <th>1407</th>\n",
       "      <td>2023-01-24</td>\n",
       "      <td>3386.95</td>\n",
       "      <td>3354.43</td>\n",
       "      <td>-32.52</td>\n",
       "      <td>BEA, Betaalpas                   Jumbo Eindhov...</td>\n",
       "      <td>Debit</td>\n",
       "      <td>Tuesday</td>\n",
       "      <td>January</td>\n",
       "      <td>2023</td>\n",
       "      <td>None</td>\n",
       "      <td>ABN AMRO</td>\n",
       "      <td>32.52</td>\n",
       "    </tr>\n",
       "    <tr>\n",
       "      <th>1408</th>\n",
       "      <td>2023-01-24</td>\n",
       "      <td>3354.43</td>\n",
       "      <td>3314.43</td>\n",
       "      <td>-40.00</td>\n",
       "      <td>GEA, Betaalpas                   Geldmaat Meer...</td>\n",
       "      <td>Debit</td>\n",
       "      <td>Tuesday</td>\n",
       "      <td>January</td>\n",
       "      <td>2023</td>\n",
       "      <td>None</td>\n",
       "      <td>ABN AMRO</td>\n",
       "      <td>40.00</td>\n",
       "    </tr>\n",
       "    <tr>\n",
       "      <th>1409</th>\n",
       "      <td>2023-01-25</td>\n",
       "      <td>3314.43</td>\n",
       "      <td>9049.45</td>\n",
       "      <td>5735.02</td>\n",
       "      <td>/TRTP/SEPA OVERBOEKING/IBAN/NL98RABO0340894121...</td>\n",
       "      <td>Credit</td>\n",
       "      <td>Wednesday</td>\n",
       "      <td>January</td>\n",
       "      <td>2023</td>\n",
       "      <td>None</td>\n",
       "      <td>ABN AMRO</td>\n",
       "      <td>5735.02</td>\n",
       "    </tr>\n",
       "  </tbody>\n",
       "</table>\n",
       "<p>1410 rows × 12 columns</p>\n",
       "</div>"
      ],
      "text/plain": [
       "           Date  StartBalance  EndBalance   Amount  \\\n",
       "0    2021-07-09      34839.01    34838.52    -0.49   \n",
       "1    2021-07-09      34796.68    34786.84    -9.84   \n",
       "2    2021-07-09      34799.37    34796.68    -2.69   \n",
       "3    2021-07-09      34838.52    34817.84   -20.68   \n",
       "4    2021-07-09      34817.84    34804.97   -12.87   \n",
       "...         ...           ...         ...      ...   \n",
       "1405 2023-01-24       3407.95     3398.45    -9.50   \n",
       "1406 2023-01-24       3398.45     3386.95   -11.50   \n",
       "1407 2023-01-24       3386.95     3354.43   -32.52   \n",
       "1408 2023-01-24       3354.43     3314.43   -40.00   \n",
       "1409 2023-01-25       3314.43     9049.45  5735.02   \n",
       "\n",
       "                                            Description Debit/credit  \\\n",
       "0     BEA   NR:N179K7   09.07.21/12.55 Jumbo Eindh B...        Debit   \n",
       "1     BEA   NR:4QKP08   09.07.21/20.32 Jumbo 229276,...        Debit   \n",
       "2     BEA   NR:96BS02   09.07.21/19.26 GAMMA Son en ...        Debit   \n",
       "3     BEA   NR:72327610 09.07.21/13.26 Action 1235,P...        Debit   \n",
       "4     BEA   NR:N179K7   09.07.21/13.52 Jumbo Eindh B...        Debit   \n",
       "...                                                 ...          ...   \n",
       "1405  /TRTP/SEPA Incasso algemeen doorlopend/CSID/NL...        Debit   \n",
       "1406  /TRTP/SEPA Incasso algemeen doorlopend/CSID/NL...        Debit   \n",
       "1407  BEA, Betaalpas                   Jumbo Eindhov...        Debit   \n",
       "1408  GEA, Betaalpas                   Geldmaat Meer...        Debit   \n",
       "1409  /TRTP/SEPA OVERBOEKING/IBAN/NL98RABO0340894121...       Credit   \n",
       "\n",
       "            Day    Month  Year Label  BankName  Amount (EUR)  \n",
       "0        Friday     July  2021  None  ABN AMRO          0.49  \n",
       "1        Friday     July  2021  None  ABN AMRO          9.84  \n",
       "2        Friday     July  2021  None  ABN AMRO          2.69  \n",
       "3        Friday     July  2021  None  ABN AMRO         20.68  \n",
       "4        Friday     July  2021  None  ABN AMRO         12.87  \n",
       "...         ...      ...   ...   ...       ...           ...  \n",
       "1405    Tuesday  January  2023  None  ABN AMRO          9.50  \n",
       "1406    Tuesday  January  2023  None  ABN AMRO         11.50  \n",
       "1407    Tuesday  January  2023  None  ABN AMRO         32.52  \n",
       "1408    Tuesday  January  2023  None  ABN AMRO         40.00  \n",
       "1409  Wednesday  January  2023  None  ABN AMRO       5735.02  \n",
       "\n",
       "[1410 rows x 12 columns]"
      ]
     },
     "execution_count": 15,
     "metadata": {},
     "output_type": "execute_result"
    }
   ],
   "source": [
    "df = df.assign(Day = df[\"Date\"].dt.day_name())\n",
    "df = df.assign(Month = df[\"Date\"].dt.month_name())\n",
    "df = df.assign(Year = df[\"Date\"].dt.year)\n",
    "df = df.assign(Label = \"None\")\n",
    "df = df.assign(BankName =\"ABN AMRO\")\n",
    "#df.loc[0:,[\"Amount\"]][df[\"Amount\"] < 0].eval(\"Amount= Amount * -1\")\n",
    "df[\"Amount (EUR)\"] = df[\"Amount\"].apply(lambda x : x*-1 if x<0 else x*1)\n",
    "df"
   ]
  },
  {
   "cell_type": "code",
   "execution_count": null,
   "id": "599d6f0e-46c2-4fd2-a708-fd131c46ecb7",
   "metadata": {},
   "outputs": [],
   "source": [
    "df.loc[df[\"Description\"].str.contains(\"IBAN\")]"
   ]
  },
  {
   "cell_type": "code",
   "execution_count": null,
   "id": "2f46e7a7-4fd5-47a5-8d08-cb3b80e4c43a",
   "metadata": {
    "tags": []
   },
   "outputs": [],
   "source": [
    "df.groupby(\"Year\").describe().T"
   ]
  },
  {
   "cell_type": "code",
   "execution_count": null,
   "id": "5f85b635-013d-4c70-a6d9-10c3ed6cf787",
   "metadata": {},
   "outputs": [],
   "source": [
    "df[\"Description\"].convert_dtypes()"
   ]
  },
  {
   "cell_type": "code",
   "execution_count": null,
   "id": "60ef9735-b0cc-4cf6-b61f-ddfe0d8a0de4",
   "metadata": {},
   "outputs": [],
   "source": [
    "df.info()"
   ]
  },
  {
   "cell_type": "markdown",
   "id": "9e14bba0-325a-4a01-b32e-8f4d3da73a14",
   "metadata": {},
   "source": [
    "## Missing Data"
   ]
  },
  {
   "cell_type": "code",
   "execution_count": 53,
   "id": "f2984026-8233-4bf9-a37f-e68c3b32f853",
   "metadata": {},
   "outputs": [
    {
     "data": {
      "text/html": [
       "<div>\n",
       "<style scoped>\n",
       "    .dataframe tbody tr th:only-of-type {\n",
       "        vertical-align: middle;\n",
       "    }\n",
       "\n",
       "    .dataframe tbody tr th {\n",
       "        vertical-align: top;\n",
       "    }\n",
       "\n",
       "    .dataframe thead th {\n",
       "        text-align: right;\n",
       "    }\n",
       "</style>\n",
       "<table border=\"1\" class=\"dataframe\">\n",
       "  <thead>\n",
       "    <tr style=\"text-align: right;\">\n",
       "      <th></th>\n",
       "      <th>Date</th>\n",
       "      <th>StartBalance</th>\n",
       "      <th>EndBalance</th>\n",
       "      <th>Amount</th>\n",
       "      <th>Description</th>\n",
       "      <th>Debit/credit</th>\n",
       "      <th>Day</th>\n",
       "      <th>Month</th>\n",
       "      <th>Year</th>\n",
       "      <th>Label</th>\n",
       "      <th>BankName</th>\n",
       "      <th>Amount (EUR)</th>\n",
       "    </tr>\n",
       "  </thead>\n",
       "  <tbody>\n",
       "    <tr>\n",
       "      <th>0</th>\n",
       "      <td>False</td>\n",
       "      <td>False</td>\n",
       "      <td>False</td>\n",
       "      <td>False</td>\n",
       "      <td>False</td>\n",
       "      <td>False</td>\n",
       "      <td>False</td>\n",
       "      <td>False</td>\n",
       "      <td>False</td>\n",
       "      <td>False</td>\n",
       "      <td>False</td>\n",
       "      <td>False</td>\n",
       "    </tr>\n",
       "    <tr>\n",
       "      <th>1</th>\n",
       "      <td>False</td>\n",
       "      <td>False</td>\n",
       "      <td>False</td>\n",
       "      <td>False</td>\n",
       "      <td>False</td>\n",
       "      <td>False</td>\n",
       "      <td>False</td>\n",
       "      <td>False</td>\n",
       "      <td>False</td>\n",
       "      <td>False</td>\n",
       "      <td>False</td>\n",
       "      <td>False</td>\n",
       "    </tr>\n",
       "    <tr>\n",
       "      <th>2</th>\n",
       "      <td>False</td>\n",
       "      <td>False</td>\n",
       "      <td>False</td>\n",
       "      <td>False</td>\n",
       "      <td>False</td>\n",
       "      <td>False</td>\n",
       "      <td>False</td>\n",
       "      <td>False</td>\n",
       "      <td>False</td>\n",
       "      <td>False</td>\n",
       "      <td>False</td>\n",
       "      <td>False</td>\n",
       "    </tr>\n",
       "    <tr>\n",
       "      <th>3</th>\n",
       "      <td>False</td>\n",
       "      <td>False</td>\n",
       "      <td>False</td>\n",
       "      <td>False</td>\n",
       "      <td>False</td>\n",
       "      <td>False</td>\n",
       "      <td>False</td>\n",
       "      <td>False</td>\n",
       "      <td>False</td>\n",
       "      <td>False</td>\n",
       "      <td>False</td>\n",
       "      <td>False</td>\n",
       "    </tr>\n",
       "    <tr>\n",
       "      <th>4</th>\n",
       "      <td>False</td>\n",
       "      <td>False</td>\n",
       "      <td>False</td>\n",
       "      <td>False</td>\n",
       "      <td>False</td>\n",
       "      <td>False</td>\n",
       "      <td>False</td>\n",
       "      <td>False</td>\n",
       "      <td>False</td>\n",
       "      <td>False</td>\n",
       "      <td>False</td>\n",
       "      <td>False</td>\n",
       "    </tr>\n",
       "  </tbody>\n",
       "</table>\n",
       "</div>"
      ],
      "text/plain": [
       "    Date  StartBalance  EndBalance  Amount  Description  Debit/credit    Day  \\\n",
       "0  False         False       False   False        False         False  False   \n",
       "1  False         False       False   False        False         False  False   \n",
       "2  False         False       False   False        False         False  False   \n",
       "3  False         False       False   False        False         False  False   \n",
       "4  False         False       False   False        False         False  False   \n",
       "\n",
       "   Month   Year  Label  BankName  Amount (EUR)  \n",
       "0  False  False  False     False         False  \n",
       "1  False  False  False     False         False  \n",
       "2  False  False  False     False         False  \n",
       "3  False  False  False     False         False  \n",
       "4  False  False  False     False         False  "
      ]
     },
     "execution_count": 53,
     "metadata": {},
     "output_type": "execute_result"
    }
   ],
   "source": [
    "missing_data = df.isnull()\n",
    "missing_data.head(5)"
   ]
  },
  {
   "cell_type": "code",
   "execution_count": 47,
   "id": "02ab36fd-2d9f-4cc3-9083-9d8b24bdcf11",
   "metadata": {},
   "outputs": [
    {
     "data": {
      "text/plain": [
       "pandas.core.series.Series"
      ]
     },
     "execution_count": 47,
     "metadata": {},
     "output_type": "execute_result"
    }
   ],
   "source": [
    "df.isnull().columns.values.tolist()\n",
    "type(missing_data[\"Date\"].value_counts())"
   ]
  },
  {
   "cell_type": "code",
   "execution_count": 15,
   "id": "2c8ba3b5-4c4a-459c-822a-83f0d3e8292c",
   "metadata": {},
   "outputs": [
    {
     "name": "stdout",
     "output_type": "stream",
     "text": [
      "['Date', 'StartBalance', 'EndBalance', 'Amount', 'Description', 'Debit/credit', 'Day', 'Month', 'Year', 'Label', 'BankName', 'Amount (EUR)']\n",
      "Date\n",
      "False    1410\n",
      "Name: Date, dtype: int64\n",
      "\n",
      "StartBalance\n",
      "False    1410\n",
      "Name: StartBalance, dtype: int64\n",
      "\n",
      "EndBalance\n",
      "False    1410\n",
      "Name: EndBalance, dtype: int64\n",
      "\n",
      "Amount\n",
      "False    1410\n",
      "Name: Amount, dtype: int64\n",
      "\n",
      "Description\n",
      "False    1410\n",
      "Name: Description, dtype: int64\n",
      "\n",
      "Debit/credit\n",
      "False    1410\n",
      "Name: Debit/credit, dtype: int64\n",
      "\n",
      "Day\n",
      "False    1410\n",
      "Name: Day, dtype: int64\n",
      "\n",
      "Month\n",
      "False    1410\n",
      "Name: Month, dtype: int64\n",
      "\n",
      "Year\n",
      "False    1410\n",
      "Name: Year, dtype: int64\n",
      "\n",
      "Label\n",
      "False    1410\n",
      "Name: Label, dtype: int64\n",
      "\n",
      "BankName\n",
      "False    1410\n",
      "Name: BankName, dtype: int64\n",
      "\n",
      "Amount (EUR)\n",
      "False    1410\n",
      "Name: Amount (EUR), dtype: int64\n",
      "\n"
     ]
    }
   ],
   "source": [
    "print(missing_data.columns.values.tolist())\n",
    "for column in missing_data.columns.values.tolist():\n",
    "    print(column)\n",
    "    print (missing_data[column].value_counts())\n",
    "    print(\"\")    "
   ]
  },
  {
   "cell_type": "markdown",
   "id": "d0258e48-9332-4ccd-8c8b-71e458501525",
   "metadata": {
    "tags": []
   },
   "source": [
    "# LABEL ATAMA"
   ]
  },
  {
   "cell_type": "code",
   "execution_count": null,
   "id": "0b843eab-2fa0-4142-944e-812f20141ede",
   "metadata": {},
   "outputs": [],
   "source": [
    "df.loc[(df[\"Amount\"]>0) & (df[\"Description\"].str.contains(\"Sioux Expats\", case= False)),[\"Label\"]] = \"Income\""
   ]
  },
  {
   "cell_type": "code",
   "execution_count": null,
   "id": "28b87bc5-a753-4cf3-8619-f7894b9b87be",
   "metadata": {},
   "outputs": [],
   "source": [
    "df.loc[(df[\"Amount\"]>0) & (df[\"Description\"].str.contains(\"KINDERBIJSLAG\", case = False)),[\"Label\"]] = \"Kinderbijslag\""
   ]
  },
  {
   "cell_type": "code",
   "execution_count": null,
   "id": "0b1ce050-0a0b-4317-a242-d1cf258c9d2a",
   "metadata": {},
   "outputs": [],
   "source": [
    "df.loc[(df[\"Amount\"]>0) & (df[\"Label\"] == \"None\"),[\"Label\"]] = \"Other\""
   ]
  },
  {
   "cell_type": "code",
   "execution_count": null,
   "id": "ea4f616b-87d4-4018-9bf5-3034a79fa597",
   "metadata": {},
   "outputs": [],
   "source": [
    "df.loc[(df[\"Amount\"]<0) & (df[\"Description\"].str.contains(\"Ozturk | Izmir | Izzet | Can Slagerij\", case= False)),[\"Label\"]] = \"Turk market\""
   ]
  },
  {
   "cell_type": "code",
   "execution_count": null,
   "id": "0c619e42-2831-46e7-9110-5c2e9149bf4f",
   "metadata": {},
   "outputs": [],
   "source": [
    "df.loc[(df[\"Amount\"]<0) & (df[\"Description\"].str.contains(\"TAMOIL | Shell | TINQ | TotalEnergies | Total | Esso\", case= False)),[\"Label\"]] = \"Fuel\""
   ]
  },
  {
   "cell_type": "code",
   "execution_count": null,
   "id": "08b892b6-0723-4842-8fc1-5ce32dbcf440",
   "metadata": {},
   "outputs": [],
   "source": [
    "df.loc[(df[\"Amount\"]<0) & (df[\"Description\"].str.contains(\"Jumbo | Albert Heijn |Lidl | Nettorama | Aldi\", case= False)),[\"Label\"]] = \"Supermarket\""
   ]
  },
  {
   "cell_type": "code",
   "execution_count": null,
   "id": "43621dc8-1f8a-4c8b-b546-c4669d828f66",
   "metadata": {
    "tags": []
   },
   "outputs": [],
   "source": [
    "df.loc[(df[\"Amount\"]<0) & (df[\"Description\"].str.contains(\"Action | hema | Praxis | solow | Gamma | Ikea | Hornbach | PRIMARK | FirstXL | H&M | Primera | So-Low | Wibra | ETOS\",case= False)),\n",
    "       [\"Label\"]] = \"Store\""
   ]
  },
  {
   "cell_type": "code",
   "execution_count": null,
   "id": "83314276-092e-472c-a803-ccf2d007c1d0",
   "metadata": {
    "tags": []
   },
   "outputs": [],
   "source": [
    "df.loc[(df[\"Amount\"]<0) & (df[\"Description\"].str.contains(\"McDonald's | the Post | Oakwood | la Toscana | the Brand | Arif\", case= False)),[\"Label\"]] = \"Restaurant\""
   ]
  },
  {
   "cell_type": "code",
   "execution_count": null,
   "id": "03d144f9-3724-4429-b8ef-c44f6932a0fb",
   "metadata": {
    "tags": []
   },
   "outputs": [],
   "source": [
    "df.loc[(df[\"Amount\"]<0) & (df[\"Description\"].str.contains(\"Kruidvat\", case= False)),[\"Label\"]] = \"Kruidvat\""
   ]
  },
  {
   "cell_type": "code",
   "execution_count": null,
   "id": "9d47e54c-f0ea-45aa-9f72-79f1ffef9b36",
   "metadata": {
    "tags": []
   },
   "outputs": [],
   "source": [
    "df.loc[(df[\"Amount\"]<0) & (df[\"Description\"].str.contains(\"Holland & Barrett\", case= False)),[\"Label\"]] = \"Holland & Barrett\""
   ]
  },
  {
   "cell_type": "code",
   "execution_count": null,
   "id": "602889ee-0e2e-4af2-b02f-cde707a4f6f2",
   "metadata": {
    "tags": []
   },
   "outputs": [],
   "source": [
    "df.loc[(df[\"Amount\"]<0) & (df[\"Description\"].str.contains(\"Decathlon\", case= False)),[\"Label\"]] = \"Decathlon\""
   ]
  },
  {
   "cell_type": "code",
   "execution_count": null,
   "id": "f3efdfd4-7f23-495d-943f-cb49dbddf34d",
   "metadata": {},
   "outputs": [],
   "source": [
    "df.loc[(df[\"Amount\"]<0) & (df[\"Description\"].str.contains(\"iDEAL\", case= False)),[\"Label\"]] = \"Online Shopping\""
   ]
  },
  {
   "cell_type": "code",
   "execution_count": null,
   "id": "60f9da51-0228-474b-bfc8-7f52ebee0994",
   "metadata": {},
   "outputs": [],
   "source": [
    "df.loc[(df[\"Amount\"]<0) & (df[\"Description\"].str.contains(\"Debit\", case= False)),[\"Label\"]] = \"ABN AMRO Bank Expense\""
   ]
  },
  {
   "cell_type": "code",
   "execution_count": null,
   "id": "24149abe-2453-4d90-ad25-95bd2d5efc2d",
   "metadata": {},
   "outputs": [],
   "source": [
    "df.loc[(df[\"Amount\"]<0) & (df[\"Description\"].str.contains(\"Youfone\", case= False)),[\"Label\"]] = \"Youfone\""
   ]
  },
  {
   "cell_type": "code",
   "execution_count": null,
   "id": "898db540-3464-49b8-84e8-2ddce295e3cc",
   "metadata": {},
   "outputs": [],
   "source": [
    "df.loc[(df[\"Amount\"]<0) & (df[\"Description\"].str.contains(\"TOYS\", case= False)),[\"Label\"]] = \"Toys\""
   ]
  },
  {
   "cell_type": "code",
   "execution_count": null,
   "id": "2a9001d4-1468-40e2-b9ed-cc1b403dfc22",
   "metadata": {},
   "outputs": [],
   "source": [
    "df.loc[(df[\"Amount\"]<0) & (df[\"Description\"].str.contains(\"NL93INGB0000724779 | NL07RABO0123168686 | Doga | Step by Step\", case= False)),[\"Label\"]] = \"Doga Tasel\""
   ]
  },
  {
   "cell_type": "code",
   "execution_count": null,
   "id": "f910504e-ccb8-475e-b4e9-4288413eb3da",
   "metadata": {},
   "outputs": [],
   "source": [
    "df.loc[(df[\"Amount\"]<0) & (df[\"Description\"].str.contains(\"Sioux\", case= False)),[\"Label\"]] = \"Sioux Lunch\""
   ]
  },
  {
   "cell_type": "code",
   "execution_count": null,
   "id": "1b3c9493-a012-4ce9-936b-2fdb98c24278",
   "metadata": {},
   "outputs": [],
   "source": [
    "df.loc[(df[\"Amount\"]<0) & (df[\"Description\"].str.contains(\"Landgraaf\", case= False)),[\"Label\"]] = \"House Expense\""
   ]
  },
  {
   "cell_type": "code",
   "execution_count": null,
   "id": "b26a51b5-6e8e-4cbc-9949-248e2cf77817",
   "metadata": {},
   "outputs": [],
   "source": [
    "df.loc[(df[\"Amount\"]<0) & (df[\"Description\"].str.contains(\"brabant water\", case= False)),[\"Label\"]] = \"Water\""
   ]
  },
  {
   "cell_type": "code",
   "execution_count": null,
   "id": "6362e10f-342a-40a3-ae90-a3ab4ac5ccd3",
   "metadata": {},
   "outputs": [],
   "source": [
    "df.loc[(df[\"Amount\"]<0) & (df[\"Description\"].str.contains(\"KPN\", case= False)),[\"Label\"]] = \"Internet\""
   ]
  },
  {
   "cell_type": "code",
   "execution_count": null,
   "id": "ab89976a-5ace-4ecb-a5df-bca4be4fd752",
   "metadata": {},
   "outputs": [],
   "source": [
    "df.loc[(df[\"Amount\"]<0) & (df[\"Description\"].str.contains(\"Notariskantoor\", case= False)),[\"Label\"]] = \"Notary\""
   ]
  },
  {
   "cell_type": "code",
   "execution_count": null,
   "id": "c0198afa-b0dc-42a0-a05f-09a5b77bb9d1",
   "metadata": {},
   "outputs": [],
   "source": [
    "df.loc[(df[\"Amount\"]<0) & (df[\"Description\"].str.contains(\"REVOLT21\", case= False)),[\"Label\"]] = \"Investment\""
   ]
  },
  {
   "cell_type": "code",
   "execution_count": null,
   "id": "43f3d4e9-a186-4b17-bdb3-396c80036482",
   "metadata": {},
   "outputs": [],
   "source": [
    "df.loc[(df[\"Amount\"]<0) & (df[\"Description\"].str.contains(\"Chiroprac\", case= False)),[\"Label\"]] = \"Chiroprac\""
   ]
  },
  {
   "cell_type": "code",
   "execution_count": null,
   "id": "35be26e1-ba19-4c30-ac10-0338ebebca72",
   "metadata": {},
   "outputs": [],
   "source": [
    "df.loc[(df[\"Amount\"]<0) & (df[\"Description\"].str.contains(\"NL60INGB0663263891\", case= False)),[\"Label\"]] = \"SGE\""
   ]
  },
  {
   "cell_type": "code",
   "execution_count": null,
   "id": "80eedd2e-bdfd-40dd-a0bb-11e0cbb22dfa",
   "metadata": {},
   "outputs": [],
   "source": [
    "df.loc[(df[\"Amount\"]<-1000) & (df[\"Description\"].str.contains(\"NL79INGB0626712009\", case= False)),[\"Label\"]] = \"ING Transfer\""
   ]
  },
  {
   "cell_type": "code",
   "execution_count": null,
   "id": "8fa5f18e-1229-4e75-bc1c-0b525c8d3013",
   "metadata": {},
   "outputs": [],
   "source": [
    "df.loc[(df[\"Amount\"]<-1000) & (df[\"Description\"].str.contains(\"NL32ABNA0455685711\", case= False)),[\"Label\"]] = \"Rent\""
   ]
  },
  {
   "cell_type": "code",
   "execution_count": null,
   "id": "bdc0faee-78cc-4d18-a382-f1a75efa6978",
   "metadata": {},
   "outputs": [],
   "source": [
    "df.loc[(df[\"Amount\"]<0) & (df[\"Description\"].str.contains(\"GR-043-D\", case= False)),[\"Label\"]] = \"Car Insurance\""
   ]
  },
  {
   "cell_type": "code",
   "execution_count": null,
   "id": "aa045880-e57c-4bf5-bc82-b1b6b4a5ef87",
   "metadata": {},
   "outputs": [],
   "source": [
    "df.loc[(df[\"Amount\"]<0) & (df[\"Description\"].str.contains(\"Park\", case= False)),[\"Label\"]] = \"Car Park\""
   ]
  },
  {
   "cell_type": "code",
   "execution_count": null,
   "id": "1e8e1a60-c623-494c-a06c-6d6d1b2f88d3",
   "metadata": {},
   "outputs": [],
   "source": [
    "df.loc[(df[\"Amount\"]<0) & (df[\"Description\"].str.contains(\"Land:\", case= False)),[\"Label\"]] = \"Foreign Country\""
   ]
  },
  {
   "cell_type": "code",
   "execution_count": null,
   "id": "f38633a4-da2e-4888-bdd2-77714e4da9b1",
   "metadata": {},
   "outputs": [],
   "source": [
    "df.loc[(df[\"Amount\"]<0) & (df[\"Description\"].str.contains(\"FBTO | REAAL | ANAC | ASR | SCHADEVERZEKERING | SCHADEV\", case= False)),[\"Label\"]] = \"Insurance\""
   ]
  },
  {
   "cell_type": "code",
   "execution_count": null,
   "id": "7ca5dd5d-0237-4fbf-922b-a5e70c5f82ae",
   "metadata": {},
   "outputs": [],
   "source": [
    "df.loc[(df[\"Label\"]== \"ING Transfer\")]"
   ]
  },
  {
   "cell_type": "code",
   "execution_count": null,
   "id": "745072d4-11ab-4f79-827d-b4bdca54531c",
   "metadata": {},
   "outputs": [],
   "source": [
    "chart_df = df.loc[df[\"Amount\"]<0]\n",
    "plt.pie(chart_df[\"Month\"].value_counts(), labels = chart_df[\"Month\"].unique(), autopct='%0.02f%%')\n",
    "\n",
    "chart_df"
   ]
  },
  {
   "cell_type": "code",
   "execution_count": null,
   "id": "388dace9-8f7e-4c76-a7f3-0d0491c34925",
   "metadata": {},
   "outputs": [],
   "source": [
    "df.groupby(\"Label\")[\"Description\"].count()"
   ]
  },
  {
   "cell_type": "code",
   "execution_count": null,
   "id": "1a02a231-7647-4d50-a555-07d8d662dad6",
   "metadata": {
    "tags": []
   },
   "outputs": [],
   "source": [
    "df_income = df.loc[df[\"Amount\"]>0]\n",
    "df_expense = df.loc[df[\"Amount\"]<0]"
   ]
  },
  {
   "cell_type": "code",
   "execution_count": null,
   "id": "900ea031-0b74-4802-b004-c069262ebfd9",
   "metadata": {
    "tags": []
   },
   "outputs": [],
   "source": [
    "df.loc[(df[\"Amount\"]>0) & (df[\"Description\"].str.contains(\"Sioux Expats\"))]"
   ]
  },
  {
   "cell_type": "code",
   "execution_count": null,
   "id": "86e817d3-d246-43cf-aa4c-10c1efa1e765",
   "metadata": {},
   "outputs": [],
   "source": [
    "df.loc[(df[\"Description\"].str.contains(\"BEA\"))]"
   ]
  },
  {
   "cell_type": "code",
   "execution_count": null,
   "id": "9ff911ec-e9c2-4893-93b1-17b0ac9f4388",
   "metadata": {},
   "outputs": [],
   "source": [
    "df[\"Label\"].unique()"
   ]
  },
  {
   "cell_type": "code",
   "execution_count": null,
   "id": "667db5be-c310-43aa-a6ba-a5eeec8f96e3",
   "metadata": {},
   "outputs": [],
   "source": [
    "sns.catplot(data = (df_expense.loc[(df[\"Amount\"]<0) & (df[\"Amount\"]>-500)]), y = \"Label\", x= \"Amount\", col=\"Month\", kind = \"strip\")\n",
    "plt.show()"
   ]
  },
  {
   "cell_type": "code",
   "execution_count": null,
   "id": "d71fe520-7476-4d15-81da-4f6d81036478",
   "metadata": {},
   "outputs": [],
   "source": [
    "sns.catplot(data = (df_expense.loc[(df[\"Amount\"]<0) & (df[\"Amount\"]>-500)]), y = \"Label\", x= \"Amount\", hue=\"Month\", kind = \"strip\")\n",
    "plt.show()"
   ]
  },
  {
   "cell_type": "code",
   "execution_count": null,
   "id": "959eaa84-dc27-4259-9ee0-576ac9cc82ee",
   "metadata": {},
   "outputs": [],
   "source": [
    "month_list = (\"January\",\"February\",\"March\",\"April\",\"May\",\"June\",\"July\",\"August\",\"September\",\"October\",\"November\",\"December\")\n",
    "for i in df[\"month\"].unique():\n",
    "    print(i)\n",
    "    "
   ]
  },
  {
   "cell_type": "code",
   "execution_count": null,
   "id": "224f92cf-2860-4a27-990f-5cd9a230fa1a",
   "metadata": {
    "tags": []
   },
   "outputs": [],
   "source": [
    "month_list = (\"January\",\"February\",\"March\",\"April\",\"May\",\"June\",\"July\",\"August\",\"September\",\"October\",\"November\",\"December\")\n",
    "\n",
    "for i in month_list:\n",
    "    g = sns.catplot(data = (df.loc[(df[\"amount\"]<0) & (df[\"amount\"]>-500) & (df[\"month\"] == i)]), y = \"label\", x= \"amount\", hue=\"year\", kind = \"strip\")\n",
    "    g.set_xlabels(label = i)"
   ]
  },
  {
   "cell_type": "code",
   "execution_count": null,
   "id": "c71988e1-815a-4b27-aadf-83c1391a8b9a",
   "metadata": {},
   "outputs": [],
   "source": [
    "sns.boxplot(x = df.Amount)\n",
    "plt.show()"
   ]
  },
  {
   "cell_type": "code",
   "execution_count": null,
   "id": "c6334b3f-8ac1-4364-8ddf-21b86833cf10",
   "metadata": {},
   "outputs": [],
   "source": [
    "with pd.ExcelWriter('output.xlsx') as writer:  \n",
    "    df.to_excel(writer, sheet_name=\"all\")\n",
    "    df_income.to_excel(writer, sheet_name='income')\n",
    "    df_expense.to_excel(writer, sheet_name='expense')"
   ]
  },
  {
   "cell_type": "code",
   "execution_count": null,
   "id": "92c7deb4-fb36-4c3b-99c9-e3a4bcd348e6",
   "metadata": {},
   "outputs": [],
   "source": []
  }
 ],
 "metadata": {
  "kernelspec": {
   "display_name": "Python 3 (ipykernel)",
   "language": "python",
   "name": "python3"
  },
  "language_info": {
   "codemirror_mode": {
    "name": "ipython",
    "version": 3
   },
   "file_extension": ".py",
   "mimetype": "text/x-python",
   "name": "python",
   "nbconvert_exporter": "python",
   "pygments_lexer": "ipython3",
   "version": "3.9.13"
  }
 },
 "nbformat": 4,
 "nbformat_minor": 5
}
